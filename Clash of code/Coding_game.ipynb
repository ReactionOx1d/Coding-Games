{
 "cells": [
  {
   "cell_type": "code",
   "execution_count": 17,
   "metadata": {},
   "outputs": [
    {
     "name": "stdout",
     "output_type": "stream",
     "text": [
      "100 0\n",
      "2 1\n"
     ]
    }
   ],
   "source": [
    "import sys\n",
    "import math\n",
    "\n",
    "# Auto-generated code below aims at helping you parse\n",
    "# the standard input according to the problem statement.\n",
    "\n",
    "hp1, d1 = [int(i) for i in input().split()]\n",
    "hp2, d2 = [int(i) for i in input().split()]\n",
    "to1 = int(math.ceil(hp2/d1)) if d1 != 0 else 100000000000000000000\n",
    "to2 = int(math.ceil(hp1/d2)) if d2 != 0 else 100000000000000000000\n",
    "print('1 ' + str(to1) if to1 <= to2 else '2 ' + str(to2))"
   ]
  },
  {
   "cell_type": "code",
   "execution_count": 19,
   "metadata": {},
   "outputs": [
    {
     "name": "stdout",
     "output_type": "stream",
     "text": [
      "9\n",
      "0 1 2 3 4 5 6 7 8\n",
      "52\n"
     ]
    }
   ],
   "source": [
    "import sys\n",
    "import math\n",
    "\n",
    "# Auto-generated code below aims at helping you parse\n",
    "# the standard input according to the problem statement.\n",
    "\n",
    "x = int(input())\n",
    "even = []\n",
    "odd = []\n",
    "middle = 0\n",
    "j = 1\n",
    "for i in input().split():\n",
    "    n = int(i)\n",
    "    if n%2 == 0:\n",
    "        even.append(n)\n",
    "    else:\n",
    "        odd.append(n)\n",
    "    if j == math.ceil(x/2):\n",
    "        middle = n\n",
    "    j+=1 \n",
    "    \n",
    "result = sum(even) * sum(odd) + middle**2\n",
    "print(f\"{sum(even)} x {sum(odd)} + {middle}^2 = {result}\")"
   ]
  },
  {
   "cell_type": "code",
   "execution_count": 24,
   "metadata": {},
   "outputs": [
    {
     "name": "stdout",
     "output_type": "stream",
     "text": [
      "4\n",
      "13 14 21 25\n",
      "12\n"
     ]
    }
   ],
   "source": [
    "n = int(input())\n",
    "a = list(map(int, input().split()))\n",
    "print(max(a) - min(a))"
   ]
  },
  {
   "cell_type": "code",
   "execution_count": 3,
   "metadata": {},
   "outputs": [
    {
     "name": "stdout",
     "output_type": "stream",
     "text": [
      "####  #      ######  ##\n",
      "4 1 6 2\n",
      "f\n",
      "1\n"
     ]
    }
   ],
   "source": [
    "_input = input()\n",
    "num = 0\n",
    "a = []\n",
    "for i in _input:\n",
    "    if i == '#':\n",
    "        num += 1\n",
    "    elif num != 0:\n",
    "        a.append(num)\n",
    "        num = 0\n",
    "if num != 0: a.append(num)\n",
    "print(*a)\n",
    "\n",
    "##################### Либо так\n",
    "print(*map(len,input().split()))"
   ]
  },
  {
   "cell_type": "code",
   "execution_count": 20,
   "metadata": {},
   "outputs": [
    {
     "name": "stdout",
     "output_type": "stream",
     "text": [
      "8\n",
      "8\n",
      "3\n"
     ]
    }
   ],
   "source": [
    "n = int(input())\n",
    "print((n//2)**2)"
   ]
  },
  {
   "cell_type": "code",
   "execution_count": 86,
   "metadata": {},
   "outputs": [
    {
     "name": "stdout",
     "output_type": "stream",
     "text": [
      "_ l 0 o = U\n"
     ]
    }
   ],
   "source": [
    "hair, cheek, eye, nose, mouth, chin = input().split() "
   ]
  },
  {
   "cell_type": "code",
   "execution_count": 82,
   "metadata": {},
   "outputs": [],
   "source": [
    "line_1 = hair*5\n",
    "line_2 = hair+eye + ' ' + eye + hair\n",
    "line_3 = hair+' ' + nose + ' ' + hair\n",
    "line_4 = hair+' ' + mouth + ' ' + hair\n",
    "line_5 = ' ' + chin"
   ]
  },
  {
   "cell_type": "code",
   "execution_count": 89,
   "metadata": {},
   "outputs": [
    {
     "name": "stdout",
     "output_type": "stream",
     "text": [
      "_____\n",
      "l0 0l\n",
      "l o l\n",
      "l = l\n",
      "  U\n"
     ]
    }
   ],
   "source": [
    "print(hair*5)\n",
    "print(cheek+eye + ' ' + eye + cheek)\n",
    "print(cheek+' ' + nose + ' ' + cheek)\n",
    "print(cheek+' ' + mouth + ' ' + cheek)\n",
    "if len(chin) == 3:\n",
    "    print(' ' + chin)\n",
    "elif len(chin) == 1:\n",
    "    print('  ' + chin )\n",
    "else:\n",
    "    print(chin)"
   ]
  },
  {
   "cell_type": "code",
   "execution_count": 92,
   "metadata": {},
   "outputs": [
    {
     "name": "stdout",
     "output_type": "stream",
     "text": [
      "2 \n",
      "5 0\n",
      "5 2\n",
      "25 27\n"
     ]
    }
   ],
   "source": [
    "n = int(input())\n",
    "k =[]\n",
    "for i in range(n):\n",
    "    a, b = [int(j) for j in input().split()]\n",
    "    k.append(a**2 + b)\n",
    "for i in range(n):\n",
    "    print(k[i])"
   ]
  },
  {
   "cell_type": "code",
   "execution_count": 13,
   "metadata": {},
   "outputs": [
    {
     "name": "stdout",
     "output_type": "stream",
     "text": [
      "1\n",
      "0\n",
      "1\n"
     ]
    }
   ],
   "source": [
    "a = int(input())\n",
    "b = int(input())\n",
    "c = int(input())"
   ]
  },
  {
   "cell_type": "code",
   "execution_count": 9,
   "metadata": {},
   "outputs": [
    {
     "name": "stdout",
     "output_type": "stream",
     "text": [
      "5\n"
     ]
    }
   ],
   "source": [
    "#Найти 1 число, отличное от 2 остальных\n",
    "if a == b:\n",
    "    print(c)\n",
    "elif a == c:\n",
    "    print(b)\n",
    "else:\n",
    "    print(a)#\n",
    "########## Или вот так\n",
    "i=input\n",
    "j=int\n",
    "print(j(i())^j(i())^j(i()))"
   ]
  },
  {
   "cell_type": "code",
   "execution_count": 29,
   "metadata": {},
   "outputs": [
    {
     "name": "stdout",
     "output_type": "stream",
     "text": [
      "Hello wn+1rld!\n"
     ]
    }
   ],
   "source": [
    "text = input()"
   ]
  },
  {
   "cell_type": "code",
   "execution_count": 89,
   "metadata": {},
   "outputs": [
    {
     "name": "stdout",
     "output_type": "stream",
     "text": [
      "Hello world!\n"
     ]
    }
   ],
   "source": [
    "t = []\n",
    "for i,word in enumerate(text):\n",
    "    if word == '+' or word == '-':\n",
    "        num = int(word+text[i+1])\n",
    "        letter = chr(ord(text[i-1])+num)\n",
    "        t.pop()    \n",
    "        t.append(letter)\n",
    "    elif word.isdigit():\n",
    "        pass\n",
    "    else:\n",
    "        t.append(word)\n",
    "print(''.join(t))"
   ]
  },
  {
   "cell_type": "code",
   "execution_count": null,
   "metadata": {},
   "outputs": [],
   "source": []
  },
  {
   "cell_type": "code",
   "execution_count": 97,
   "metadata": {},
   "outputs": [
    {
     "name": "stdout",
     "output_type": "stream",
     "text": [
      "42\n",
      "1200\n",
      "1400\n",
      "true\n"
     ]
    }
   ],
   "source": [
    "a = int(input())\n",
    "b = int(input())\n",
    "c = int(input())\n",
    "if (a*6*5*4 - c) >= b: print('true')\n",
    "else: print('false')"
   ]
  },
  {
   "cell_type": "code",
   "execution_count": 110,
   "metadata": {},
   "outputs": [
    {
     "name": "stdout",
     "output_type": "stream",
     "text": [
      "3\n",
      "4\n",
      "5\n",
      "true\n"
     ]
    }
   ],
   "source": [
    "#Более короткое решение\n",
    "i=input\n",
    "a,b,c=int(i()),int(i()),int(i())\n",
    "print('true'if a*6*5*4-c>b else'false')"
   ]
  },
  {
   "cell_type": "code",
   "execution_count": null,
   "metadata": {},
   "outputs": [],
   "source": [
    "#Максимально коротко\n",
    "x=lambda:int(input())\n",
    "print(str(x()*120>=x()+x()).lower())"
   ]
  },
  {
   "cell_type": "code",
   "execution_count": 1,
   "metadata": {},
   "outputs": [
    {
     "ename": "NameError",
     "evalue": "name 'a' is not defined",
     "output_type": "error",
     "traceback": [
      "\u001b[1;31m---------------------------------------------------------------------------\u001b[0m",
      "\u001b[1;31mNameError\u001b[0m                                 Traceback (most recent call last)",
      "\u001b[1;32m<ipython-input-1-3f786850e387>\u001b[0m in \u001b[0;36m<module>\u001b[1;34m\u001b[0m\n\u001b[1;32m----> 1\u001b[1;33m \u001b[0ma\u001b[0m\u001b[1;33m\u001b[0m\u001b[1;33m\u001b[0m\u001b[0m\n\u001b[0m",
      "\u001b[1;31mNameError\u001b[0m: name 'a' is not defined"
     ]
    }
   ],
   "source": [
    "a=input().split()\n",
    "b=input().split()\n",
    "_=len(a)\n",
    "if _!=len(b):print('Invalid')\n",
    "else:print(*[int(a[i])+int(b[i]) for i in range(_)])"
   ]
  },
  {
   "cell_type": "code",
   "execution_count": 5,
   "metadata": {},
   "outputs": [
    {
     "name": "stdout",
     "output_type": "stream",
     "text": [
      "5\n",
      "@\n",
      "@@@@@@@@@@@@@@@@@@@\n",
      "@@@@@@@@@@@@@@@@@@@\n",
      "@@@@@@@@@@@@@@@@@@@\n",
      "@@@@@@@@@@@@@@@@@@@\n",
      "@@@@@@@@@@@@@@@@@@@\n",
      "@@@@@   ___   @@@@@\n",
      "@@@@@ _(*_*)_ @@@@@\n",
      "@@@@@(_  o  _)@@@@@\n",
      "@@@@@  /-o-\\  @@@@@\n",
      "@@@@@ (_/ \\_) @@@@@\n",
      "@@@@@@@@@@@@@@@@@@@\n",
      "@@@@@@@@@@@@@@@@@@@\n",
      "@@@@@@@@@@@@@@@@@@@\n",
      "@@@@@@@@@@@@@@@@@@@\n",
      "@@@@@@@@@@@@@@@@@@@\n"
     ]
    }
   ],
   "source": [
    "n = int(input())\n",
    "c = input()\n",
    "a = (2*n+9)*c\n",
    "b =  '   ___   '\n",
    "cc = ' _(*_*)_ '\n",
    "d =  '(_  o  _)'\n",
    "e =  '  /-o-\\  '\n",
    "f =  ' (_/ \\_) '\n",
    "for i in range(n):\n",
    "    print(a)\n",
    "print(n*c+b+n*c)\n",
    "print(n*c +cc+n*c)\n",
    "print(n*c +d+n*c)\n",
    "print(n*c +e+n*c)\n",
    "print(n*c +f+n*c)\n",
    "for i in range(n):\n",
    "    print(a)"
   ]
  },
  {
   "cell_type": "code",
   "execution_count": 34,
   "metadata": {},
   "outputs": [
    {
     "name": "stdout",
     "output_type": "stream",
     "text": [
      "29\n"
     ]
    }
   ],
   "source": [
    "# (4*3*6)%43 == (8*9)%43 -> yes else no\n",
    "n = 436\n",
    "m = 89\n",
    "mult = 1\n",
    "while n > 0:\n",
    "    digit = n % 10\n",
    "    mult = mult * digit\n",
    "    n = n // 10\n",
    "    \n",
    "mult2 = 1\n",
    "while m > 0:\n",
    "    digit = m % 10\n",
    "    mult2 = mult2 * digit\n",
    "    m = m // 10\n",
    "    \n",
    "if (mult%43 == mult2%43): print(mult%43) \n",
    "else: print(-1)\n",
    "    "
   ]
  },
  {
   "cell_type": "code",
   "execution_count": 44,
   "metadata": {},
   "outputs": [
    {
     "name": "stdout",
     "output_type": "stream",
     "text": [
      "436\n",
      "72\n",
      "NO\n"
     ]
    }
   ],
   "source": [
    "import numpy as np\n",
    "n = input()\n",
    "m = input()\n",
    "num_1 = [int(i) for i in n]\n",
    "num_2 = [int(i) for i in m]\n",
    "if (np.product(num_1)%43 == np.product(num_2)%43):\n",
    "    print ('YES')\n",
    "else:\n",
    "    print('NO')"
   ]
  },
  {
   "cell_type": "code",
   "execution_count": 69,
   "metadata": {},
   "outputs": [
    {
     "name": "stdout",
     "output_type": "stream",
     "text": [
      "2\n",
      "-1 1\n",
      "1\n"
     ]
    }
   ],
   "source": [
    "d = {}\n",
    "c = int(input())\n",
    "for i in input().split():\n",
    "    n = int(i)\n",
    "    if n%2 == 1:\n",
    "        d[abs(n)] = n*n\n",
    "        \n",
    "print(*sorted(d.values()))"
   ]
  },
  {
   "cell_type": "code",
   "execution_count": 39,
   "metadata": {},
   "outputs": [
    {
     "name": "stdout",
     "output_type": "stream",
     "text": [
      "4\n",
      "3 4 5 6\n",
      "2\n",
      "3\n",
      "5\n",
      "8\n"
     ]
    }
   ],
   "source": [
    "n = int(input())\n",
    "a = list(map(int, input().split()))\n",
    "fib = lambda k: k if k < 2 else fib(k-1) + fib(k-2)\n",
    "for i in a:print(fib(i))"
   ]
  },
  {
   "cell_type": "code",
   "execution_count": null,
   "metadata": {},
   "outputs": [],
   "source": []
  },
  {
   "cell_type": "code",
   "execution_count": 2,
   "metadata": {},
   "outputs": [
    {
     "name": "stdout",
     "output_type": "stream",
     "text": [
      "l\n",
      "   Hello World!  \n"
     ]
    }
   ],
   "source": [
    "str_1 = input()\n",
    "str_2 = input()"
   ]
  },
  {
   "cell_type": "code",
   "execution_count": 40,
   "metadata": {},
   "outputs": [
    {
     "name": "stdout",
     "output_type": "stream",
     "text": [
      "True\n",
      "5\n",
      "12\n",
      "   hELLO wORLD!  \n",
      "   Hello World!\n",
      "Hello World!  \n",
      "Hello World!\n"
     ]
    }
   ],
   "source": [
    "check = str_1 in str_2\n",
    "if(check):\n",
    "    print(True)\n",
    "    \n",
    "    index = str_2.find(str_1)\n",
    "    print(index) \n",
    "    \n",
    "    print(len(str_2) -1- str_2[::-1].find(str_1))\n",
    "\n",
    "    \n",
    "for i in str_2:\n",
    "    if i.islower():\n",
    "        print(i.upper(), end='')\n",
    "    else:\n",
    "        print(i.lower(), end='')\n",
    "print()\n",
    "\n",
    "print(str_2.rstrip(' '))\n",
    "\n",
    "print(str_2.lstrip(' '))\n",
    "\n",
    "print(str_2.strip(' '))"
   ]
  },
  {
   "cell_type": "code",
   "execution_count": 49,
   "metadata": {},
   "outputs": [
    {
     "name": "stdout",
     "output_type": "stream",
     "text": [
      "5\n",
      "17\n",
      "4\n",
      "5\n",
      "9\n",
      "25\n",
      "10\n"
     ]
    }
   ],
   "source": [
    "import math\n",
    "q=int\n",
    "n=q(input())\n",
    "a=[]\n",
    "for i in range(n):a.append(q(input()))\n",
    "if n!=0:print(q(math.sqrt(min(a)*max(a))))\n",
    "else:print(0)"
   ]
  },
  {
   "cell_type": "code",
   "execution_count": 56,
   "metadata": {},
   "outputs": [
    {
     "name": "stdout",
     "output_type": "stream",
     "text": [
      "5\n",
      "17\n",
      "4\n",
      "5\n",
      "9\n",
      "25\n",
      "10\n"
     ]
    }
   ],
   "source": [
    "####  ИЛИ\n",
    "a=[int(input()) for i in ' '*int(input())]or[0]\n",
    "print(int((max(a)*min(a))**(1/2)))"
   ]
  },
  {
   "cell_type": "code",
   "execution_count": 66,
   "metadata": {},
   "outputs": [
    {
     "name": "stdout",
     "output_type": "stream",
     "text": [
      "4\n",
      "++++\n",
      "++++\n",
      "++++\n",
      "++++\n"
     ]
    }
   ],
   "source": [
    "s = int(input())\n",
    "print(*[s*'+']*s,sep='\\n')"
   ]
  },
  {
   "cell_type": "code",
   "execution_count": 130,
   "metadata": {},
   "outputs": [
    {
     "name": "stdout",
     "output_type": "stream",
     "text": [
      "#\n"
     ]
    }
   ],
   "source": [
    "n = int(input())\n",
    "print(n*'#')\n",
    "print(*['#'+' '*(n-2)+'#']*(n-2),sep='\\n') if n>2 else print('',end='')\n",
    "print(n*'#') if n!= 1 else print('',end='')"
   ]
  },
  {
   "cell_type": "code",
   "execution_count": 136,
   "metadata": {},
   "outputs": [
    {
     "name": "stdout",
     "output_type": "stream",
     "text": [
      "-1 \n"
     ]
    },
    {
     "data": {
      "text/plain": [
       "-1"
      ]
     },
     "execution_count": 136,
     "metadata": {},
     "output_type": "execute_result"
    }
   ],
   "source": [
    "# Превращает строку, содержащую операции в число\n",
    "_str = input()\n",
    "eval(_str)"
   ]
  },
  {
   "cell_type": "code",
   "execution_count": 160,
   "metadata": {},
   "outputs": [
    {
     "name": "stdout",
     "output_type": "stream",
     "text": [
      "aAbc\n"
     ]
    },
    {
     "ename": "NameError",
     "evalue": "name 'inot' is not defined",
     "output_type": "error",
     "traceback": [
      "\u001b[1;31m---------------------------------------------------------------------------\u001b[0m",
      "\u001b[1;31mNameError\u001b[0m                                 Traceback (most recent call last)",
      "\u001b[1;32m<ipython-input-160-cd5288d23f41>\u001b[0m in \u001b[0;36m<module>\u001b[1;34m\u001b[0m\n\u001b[0;32m      2\u001b[0m \u001b[0ma\u001b[0m \u001b[1;33m=\u001b[0m \u001b[1;33m{\u001b[0m\u001b[1;33m}\u001b[0m\u001b[1;33m\u001b[0m\u001b[1;33m\u001b[0m\u001b[0m\n\u001b[0;32m      3\u001b[0m \u001b[1;32mfor\u001b[0m \u001b[0mi\u001b[0m \u001b[1;32min\u001b[0m \u001b[0ms\u001b[0m\u001b[1;33m:\u001b[0m\u001b[1;33m\u001b[0m\u001b[1;33m\u001b[0m\u001b[0m\n\u001b[1;32m----> 4\u001b[1;33m     \u001b[1;32mif\u001b[0m \u001b[0minot\u001b[0m \u001b[1;32min\u001b[0m \u001b[0ma\u001b[0m\u001b[1;33m:\u001b[0m\u001b[1;33m\u001b[0m\u001b[1;33m\u001b[0m\u001b[0m\n\u001b[0m\u001b[0;32m      5\u001b[0m         \u001b[0ma\u001b[0m\u001b[1;33m[\u001b[0m\u001b[0mi\u001b[0m\u001b[1;33m]\u001b[0m \u001b[1;33m=\u001b[0m \u001b[1;36m1\u001b[0m\u001b[1;33m\u001b[0m\u001b[1;33m\u001b[0m\u001b[0m\n\u001b[0;32m      6\u001b[0m         \u001b[0mprint\u001b[0m\u001b[1;33m(\u001b[0m\u001b[0ma\u001b[0m\u001b[1;33m[\u001b[0m\u001b[0mi\u001b[0m\u001b[1;33m]\u001b[0m\u001b[1;33m,\u001b[0m\u001b[0mend\u001b[0m\u001b[1;33m=\u001b[0m\u001b[1;34m''\u001b[0m\u001b[1;33m)\u001b[0m\u001b[1;33m\u001b[0m\u001b[1;33m\u001b[0m\u001b[0m\n",
      "\u001b[1;31mNameError\u001b[0m: name 'inot' is not defined"
     ]
    }
   ],
   "source": [
    "s = input().lower()\n",
    "a = {}\n",
    "for i in s:\n",
    "    if inot in a:\n",
    "        a[i] = 1\n",
    "        print(a[i],end='')\n",
    "    else:\n",
    "        a[i] += 1\n",
    "        print(a[i],end='')"
   ]
  },
  {
   "cell_type": "code",
   "execution_count": 159,
   "metadata": {},
   "outputs": [
    {
     "name": "stdout",
     "output_type": "stream",
     "text": [
      "123121"
     ]
    }
   ],
   "source": [
    "a = {}\n",
    "for i in s:\n",
    "    if i.lower() not in a:\n",
    "        a[i.lower()] = 1\n",
    "        print(a[i.lower()],end='')\n",
    "    else:\n",
    "        a[i.lower()] += 1\n",
    "        print(a[i.lower()],end='')"
   ]
  },
  {
   "cell_type": "code",
   "execution_count": 161,
   "metadata": {},
   "outputs": [
    {
     "name": "stdout",
     "output_type": "stream",
     "text": [
      "DAMN IT'S hard\n"
     ]
    }
   ],
   "source": [
    "s = input()\n",
    "c = 0\n",
    "for i in s:\n",
    "    if i.islower():\n",
    "        c+=1\n",
    "print(c)"
   ]
  },
  {
   "cell_type": "code",
   "execution_count": 170,
   "metadata": {},
   "outputs": [
    {
     "name": "stdout",
     "output_type": "stream",
     "text": [
      "1112233445\n",
      "12345"
     ]
    }
   ],
   "source": [
    "n = input()\n",
    "print(n[0], end='')\n",
    "for i in range(1,len(n)):\n",
    "    if n[i-1] != n[i]:print(n[i], end='')"
   ]
  },
  {
   "cell_type": "code",
   "execution_count": 203,
   "metadata": {},
   "outputs": [
    {
     "name": "stdout",
     "output_type": "stream",
     "text": [
      "2\n",
      "1\n",
      "1\n",
      "6\n",
      "3\n"
     ]
    }
   ],
   "source": [
    "n = int(input())\n",
    "for i in range(n):\n",
    "    x = int(input())\n",
    "    print(len(f'{x:0b}'))#КОличество бит для кодирования числа"
   ]
  },
  {
   "cell_type": "code",
   "execution_count": 12,
   "metadata": {},
   "outputs": [
    {
     "name": "stdout",
     "output_type": "stream",
     "text": [
      "2\n",
      "103 26\n",
      "162 53\n",
      "15\n"
     ]
    }
   ],
   "source": [
    "n = int(input())\n",
    "a=[]\n",
    "for i in range(n):\n",
    "    s, d = [int(j) for j in input().split()]\n",
    "    a.append(d/s*60)\n",
    "print(int(round(min(a))))"
   ]
  },
  {
   "cell_type": "code",
   "execution_count": 53,
   "metadata": {},
   "outputs": [
    {
     "name": "stdout",
     "output_type": "stream",
     "text": [
      "ABCDefghIJKLmnop\n",
      "ABCDIJKL\n",
      "efghmnop\n"
     ]
    }
   ],
   "source": [
    "t = input()\n",
    "lower = []\n",
    "upper = []\n",
    "for i in t:\n",
    "    if i.islower():\n",
    "        lower.append(i)\n",
    "    else:\n",
    "        upper.append(i)\n",
    "print(*upper, sep='')\n",
    "print(*lower, sep='')        "
   ]
  },
  {
   "cell_type": "code",
   "execution_count": 123,
   "metadata": {},
   "outputs": [
    {
     "name": "stdout",
     "output_type": "stream",
     "text": [
      "2\n",
      "-------\n",
      "|..|..|\n",
      "|..|..|\n",
      "|--+--|\n",
      "|..|..|\n",
      "|..|..|\n",
      "-------\n"
     ]
    }
   ],
   "source": [
    "n = int(input())\n",
    "a = '|'+n*'.'+'|'+n*'.'+'|'\n",
    "b = '|'+n*'-'+'+'+n*'-'+'|'\n",
    "t = [a for i in range(n)]\n",
    "q = '-'*len(a)\n",
    "print(q)\n",
    "print(*t,sep='\\n')\n",
    "print(b)\n",
    "print(*t,sep='\\n')\n",
    "print(q)"
   ]
  },
  {
   "cell_type": "code",
   "execution_count": 152,
   "metadata": {},
   "outputs": [
    {
     "name": "stdout",
     "output_type": "stream",
     "text": [
      "(2)00-(2)01-(2)02-(2)03\n",
      "0123\n"
     ]
    }
   ],
   "source": [
    "string = input()\n",
    "i = 0\n",
    "message = []\n",
    "while i < len(string):\n",
    "    str_cut = string[i:i+5]\n",
    "    Type = int(str_cut[1])\n",
    "    if Type == 0:\n",
    "        num = ord('a')+int(str_cut[3:5])\n",
    "        message.append(chr(num))\n",
    "        \n",
    "    elif Type == 1:\n",
    "        num = ord('A')+int(str_cut[3:5])\n",
    "        message.append(chr(num))\n",
    "        \n",
    "    elif Type == 2:\n",
    "        num = ord('0')+int(str_cut[3:5])\n",
    "        message.append(chr(num))        \n",
    "    i += 6\n",
    "print(*message,sep='')"
   ]
  },
  {
   "cell_type": "code",
   "execution_count": 175,
   "metadata": {},
   "outputs": [
    {
     "name": "stdout",
     "output_type": "stream",
     "text": [
      "-5\n"
     ]
    }
   ],
   "source": [
    "n = int(input())\n",
    "a=[]\n",
    "if n>0:\n",
    "    for i in range(n-1,-1,-1):\n",
    "        a.append(i)\n",
    "    print(*a)\n",
    "elif n<0:\n",
    "    for i in range(n,1,1):\n",
    "        a.append(i)\n",
    "    print(*a)\n",
    "else: print(0)"
   ]
  },
  {
   "cell_type": "code",
   "execution_count": 185,
   "metadata": {},
   "outputs": [
    {
     "name": "stdout",
     "output_type": "stream",
     "text": [
      "1+3+2\n",
      "1+2+3\n"
     ]
    }
   ],
   "source": [
    "_sum = input()\n",
    "d = []\n",
    "for i in _sum:\n",
    "    if i.isdigit():\n",
    "        d.append(int(i))\n",
    "d = sorted(d)\n",
    "print(*d, sep='+')"
   ]
  },
  {
   "cell_type": "code",
   "execution_count": 212,
   "metadata": {},
   "outputs": [
    {
     "name": "stdout",
     "output_type": "stream",
     "text": [
      "5\n",
      "55\n"
     ]
    }
   ],
   "source": [
    "######### ПОЯСНЕНИЕ НИЖЕ\n",
    "h = int(input())\n",
    "s = 0\n",
    "for i in range(1,h+1):\n",
    "    s += i**2\n",
    "print(s)"
   ]
  },
  {
   "cell_type": "markdown",
   "metadata": {},
   "source": [
    "Print how many possible squares are in a square of height h composed of h*h squares\n",
    "\n",
    "EXAMPLE case:\n",
    "h = 2\n",
    "square :\n",
    " _ _\n",
    "|_|_|\n",
    "|_|_|\n",
    "\n",
    "There are 4, 1 size squares and 1, 2 size square ... so total is 5 which is the same as 1 ^ 2 + 2 ^ 2\n",
    "Output : 5\n",
    "\n",
    "\n",
    "Note: There is a simple trick to do this tedious task ... Find the sum of all squares of numbers from 1 to the number ( including number )"
   ]
  },
  {
   "cell_type": "code",
   "execution_count": 210,
   "metadata": {},
   "outputs": [
    {
     "name": "stdout",
     "output_type": "stream",
     "text": [
      "5\n",
      "55\n"
     ]
    }
   ],
   "source": [
    "print(sum([i**2 for i in range(1,int(input())+1)]))"
   ]
  },
  {
   "cell_type": "code",
   "execution_count": 233,
   "metadata": {},
   "outputs": [
    {
     "name": "stdout",
     "output_type": "stream",
     "text": [
      "200 50 2\n"
     ]
    }
   ],
   "source": [
    "n,i,m=[int(i) for i in input().split()]\n",
    "for j in range(m):n+=n*(i/100)\n",
    "print(int(n))"
   ]
  },
  {
   "cell_type": "code",
   "execution_count": 6,
   "metadata": {},
   "outputs": [
    {
     "name": "stdout",
     "output_type": "stream",
     "text": [
      "999\n",
      "9\n"
     ]
    }
   ],
   "source": [
    "n = int(input())\n",
    "sum = 0\n",
    "while (n>0):\n",
    "    sum+=n%10\n",
    "    n=n//10\n",
    "    if (n==0 and sum>=10):\n",
    "        n = sum\n",
    "        sum = 0\n",
    "print(sum)"
   ]
  },
  {
   "cell_type": "code",
   "execution_count": null,
   "metadata": {},
   "outputs": [],
   "source": [
    "#ИЛИ ТАК\n",
    "n = 999\n",
    "while n > 9:\n",
    "    k = str(n)\n",
    "    n = sum(int(e) for e in k)"
   ]
  },
  {
   "cell_type": "code",
   "execution_count": 4,
   "metadata": {},
   "outputs": [
    {
     "name": "stdout",
     "output_type": "stream",
     "text": [
      "4 4 3 4 4 5 4 3 5 4 3 4 5 4 4 3 4 5\n",
      "4 3 2 4 3 4 3 3 4 4 3 4 6 4 5 3 3 4\n",
      "-6\n"
     ]
    }
   ],
   "source": [
    "x=lambda:sum(map(int,input().split()))\n",
    "print(-x()+x())"
   ]
  },
  {
   "cell_type": "code",
   "execution_count": 20,
   "metadata": {},
   "outputs": [
    {
     "name": "stdout",
     "output_type": "stream",
     "text": [
      "eaSy valIdatoR, sir\n"
     ]
    }
   ],
   "source": [
    "text = input()"
   ]
  },
  {
   "cell_type": "code",
   "execution_count": 21,
   "metadata": {},
   "outputs": [],
   "source": [
    "a=[]\n",
    "for i in text:\n",
    "    if i.isupper():\n",
    "        a.append(i.lower())\n",
    "print(*a, sep='')"
   ]
  },
  {
   "cell_type": "code",
   "execution_count": 24,
   "metadata": {},
   "outputs": [
    {
     "name": "stdout",
     "output_type": "stream",
     "text": [
      "5\n",
      "1 4 6 6 8\n",
      "4 2 7 9 3\n"
     ]
    }
   ],
   "source": [
    "n = int(input())\n",
    "a=[]\n",
    "b=[]\n",
    "for i in input().split():\n",
    "    a.append(int(i))\n",
    "for i in input().split():\n",
    "    b.append(int(i))"
   ]
  },
  {
   "cell_type": "code",
   "execution_count": null,
   "metadata": {},
   "outputs": [],
   "source": []
  },
  {
   "cell_type": "code",
   "execution_count": 30,
   "metadata": {},
   "outputs": [],
   "source": [
    "su = 0\n",
    "for i in range(len(a)):\n",
    "    su+= a[i]*b[i]\n",
    "print(su)"
   ]
  },
  {
   "cell_type": "code",
   "execution_count": 31,
   "metadata": {},
   "outputs": [
    {
     "data": {
      "text/plain": [
       "132"
      ]
     },
     "execution_count": 31,
     "metadata": {},
     "output_type": "execute_result"
    }
   ],
   "source": []
  },
  {
   "cell_type": "code",
   "execution_count": 19,
   "metadata": {},
   "outputs": [
    {
     "name": "stdout",
     "output_type": "stream",
     "text": [
      "even\n"
     ]
    }
   ],
   "source": []
  },
  {
   "cell_type": "code",
   "execution_count": 26,
   "metadata": {},
   "outputs": [
    {
     "name": "stdout",
     "output_type": "stream",
     "text": [
      "This is odd\n",
      "1\n"
     ]
    }
   ],
   "source": [
    "t = input().split()#кол-во четных слов\n",
    "count = 0\n",
    "for i in t:\n",
    "    c = 0\n",
    "    for j in i:\n",
    "        if j.isalpha():\n",
    "            c+=ord(j)\n",
    "    if c%2==1:\n",
    "        count+=1\n",
    "print(count)"
   ]
  },
  {
   "cell_type": "code",
   "execution_count": 25,
   "metadata": {},
   "outputs": [
    {
     "name": "stdout",
     "output_type": "stream",
     "text": [
      "5\n",
      "1 2 3 4 5\n",
      "[x] 1\n",
      "[ ] 2\n",
      "[x] 3\n",
      "[ ] 4\n",
      "[x] 5\n"
     ]
    }
   ],
   "source": [
    "count = int(input())\n",
    "for i in input().split():\n",
    "    n = int(i)\n",
    "    if n%2==1:\n",
    "        print(f'[x] {n}')\n",
    "    else:\n",
    "        print(f'[ ] {n}')"
   ]
  },
  {
   "cell_type": "code",
   "execution_count": 40,
   "metadata": {},
   "outputs": [
    {
     "name": "stdout",
     "output_type": "stream",
     "text": [
      "6\n",
      "2\n",
      "0 1\n",
      "2 3\n",
      "4 5\n"
     ]
    }
   ],
   "source": [
    "x = int(input())\n",
    "y = int(input())\n",
    "t = 0\n",
    "for i in range(int(x/y)):\n",
    "    for j in range(y):\n",
    "        if j !=(y-1):  print(t, end=' ')\n",
    "        else: print(t, end='')\n",
    "        t+=1\n",
    "    print()"
   ]
  },
  {
   "cell_type": "code",
   "execution_count": 73,
   "metadata": {},
   "outputs": [
    {
     "name": "stdout",
     "output_type": "stream",
     "text": [
      "hello   world\n"
     ]
    }
   ],
   "source": [
    "s = input().split()"
   ]
  },
  {
   "cell_type": "code",
   "execution_count": 74,
   "metadata": {},
   "outputs": [
    {
     "name": "stdout",
     "output_type": "stream",
     "text": [
      "Hello World\n"
     ]
    }
   ],
   "source": [
    "s = input()\n",
    "a = \"\"\n",
    "b = 1\n",
    "for i in s:\n",
    "    if i==' ':\n",
    "        b = 1\n",
    "        a+=\" \"\n",
    "    elif b:\n",
    "        b = 0\n",
    "        a+=i.upper()\n",
    "    else:\n",
    "        a+=i.lower()\n",
    "print(a)"
   ]
  },
  {
   "cell_type": "code",
   "execution_count": 86,
   "metadata": {},
   "outputs": [
    {
     "name": "stdout",
     "output_type": "stream",
     "text": [
      "Citric\n",
      "20\n",
      "80\n",
      "20.0% Citric Acid\n"
     ]
    }
   ],
   "source": [
    "acid_name = input()\n",
    "acid_count = int(input())\n",
    "water_count = int(input())\n",
    "if acid_name in ['Hydrochloric', 'Sulfuric', 'Nitric', 'Citric']:\n",
    "    print(f'{float(round(acid_count/(acid_count+water_count)*100,2))}% {acid_name} Acid')\n",
    "else:\n",
    "    print(f'{float(round(acid_count/(acid_count+water_count)*100,2))}% Unknown Acid')"
   ]
  },
  {
   "cell_type": "code",
   "execution_count": 100,
   "metadata": {},
   "outputs": [
    {
     "name": "stdout",
     "output_type": "stream",
     "text": [
      "Groot am I\n",
      "['I', 'am', 'Groot']\n"
     ]
    },
    {
     "data": {
      "text/plain": [
       "<list_reverseiterator at 0x142106cfbe0>"
      ]
     },
     "execution_count": 100,
     "metadata": {},
     "output_type": "execute_result"
    }
   ],
   "source": [
    "s = input().split()\n",
    "s.reverse()\n",
    "print(s)\n",
    "#Или \n",
    "reversed(s)"
   ]
  },
  {
   "cell_type": "code",
   "execution_count": 173,
   "metadata": {},
   "outputs": [
    {
     "name": "stdout",
     "output_type": "stream",
     "text": [
      "1\n",
      "111\n",
      "7\n"
     ]
    }
   ],
   "source": [
    "n=int(input())\n",
    "c=0\n",
    "for i in range(n):\n",
    "    s=int(input(),2)\n",
    "    if s%2==1:c+=s\n",
    "print(c)"
   ]
  },
  {
   "cell_type": "code",
   "execution_count": 192,
   "metadata": {},
   "outputs": [
    {
     "name": "stdout",
     "output_type": "stream",
     "text": [
      "Hai\n",
      "3\n"
     ]
    }
   ],
   "source": [
    "s = input().split()\n",
    "d = {}\n",
    "for i in s:\n",
    "    for j in i.lower():\n",
    "        if j not in d:\n",
    "            d[j] = 1\n",
    "        else:\n",
    "            d[j] += 1\n",
    "c = 0\n",
    "for i in d.values():\n",
    "    if i == 1:c+=1\n",
    "print(c)"
   ]
  },
  {
   "cell_type": "code",
   "execution_count": 196,
   "metadata": {},
   "outputs": [
    {
     "name": "stdout",
     "output_type": "stream",
     "text": [
      "hai\n",
      "3\n"
     ]
    }
   ],
   "source": [
    "#ИЛИ\n",
    "S = input().lower()\n",
    "ans = 0\n",
    "for s in S:\n",
    "    if s.isalpha() and S.count(s) == 1:\n",
    "        ans +=1\n",
    "print(ans)"
   ]
  },
  {
   "cell_type": "code",
   "execution_count": 219,
   "metadata": {},
   "outputs": [
    {
     "name": "stdout",
     "output_type": "stream",
     "text": [
      "20 2\n",
      "1 2\n",
      "1 2 11 12\n"
     ]
    }
   ],
   "source": [
    "n, x = [int(i) for i in input().split()]\n",
    "S = input().split()\n",
    "c = []\n",
    "for i in range(n+1):\n",
    "    check = True\n",
    "    for j in str(i):\n",
    "        if j not in S: check = False\n",
    "    if check: c.append(i)\n",
    "print(*c)"
   ]
  },
  {
   "cell_type": "code",
   "execution_count": 242,
   "metadata": {},
   "outputs": [
    {
     "name": "stdout",
     "output_type": "stream",
     "text": [
      "3\n",
      "(429) 694-6493\n",
      "(738) 388-5402\n",
      "(593) 997-9629\n",
      "4\n",
      "4296946493\n",
      "You Know This Weirdo Stalker!\n",
      "7383885402\n",
      "You Know This Weirdo Stalker!\n",
      "Bob\n",
      "Weirdo Stalker!\n",
      "1320900321\n",
      "Weirdo Stalker!\n"
     ]
    }
   ],
   "source": [
    "x = int(input())\n",
    "t = []\n",
    "for i in range(x):\n",
    "    number = input()\n",
    "    number = \"\".join(c for c in number if c.isdecimal())#Убрать все, кроме цифр из строки\n",
    "    t.append(number)\n",
    "y = int(input())\n",
    "for i in range(y):\n",
    "    check = input()\n",
    "    if check in t or all(x.isalpha() or x.isspace() for x in check): #Из букв и пробелов\n",
    "        print('You Know This Weirdo Stalker!')\n",
    "    else:\n",
    "        print('Weirdo Stalker!')"
   ]
  },
  {
   "cell_type": "code",
   "execution_count": 13,
   "metadata": {},
   "outputs": [
    {
     "name": "stdout",
     "output_type": "stream",
     "text": [
      "4\n",
      "z\n",
      "zabc\n"
     ]
    }
   ],
   "source": [
    "n = int(input())\n",
    "s = input()\n",
    "a=[]\n",
    "j=0\n",
    "for i in range(n):\n",
    "    char = chr(ord(s)+j)\n",
    "    if char == 'z':\n",
    "        a.append(char)\n",
    "        s = 'a'\n",
    "        j=0\n",
    "    elif char == 'Z':\n",
    "        a.append(char)\n",
    "        s = 'A'\n",
    "        j=0\n",
    "    else:\n",
    "        a.append(char)\n",
    "        j+=1\n",
    "print(*a, sep='')        "
   ]
  },
  {
   "cell_type": "code",
   "execution_count": 36,
   "metadata": {},
   "outputs": [
    {
     "name": "stdout",
     "output_type": "stream",
     "text": [
      "[-----#---#----]\n"
     ]
    }
   ],
   "source": [
    "interval = input()"
   ]
  },
  {
   "cell_type": "code",
   "execution_count": 37,
   "metadata": {},
   "outputs": [
    {
     "name": "stdout",
     "output_type": "stream",
     "text": [
      "[------#--]\n"
     ]
    }
   ],
   "source": [
    "interval = input()"
   ]
  },
  {
   "cell_type": "code",
   "execution_count": 45,
   "metadata": {},
   "outputs": [
    {
     "name": "stdout",
     "output_type": "stream",
     "text": [
      "0.33\n"
     ]
    }
   ],
   "source": [
    "first = False\n",
    "first_idx = 0\n",
    "second = False\n",
    "second_idx = 0\n",
    "\n",
    "for i,j in enumerate(interval):\n",
    "    if j =='#'and not first:\n",
    "        first = True\n",
    "        first_idx = i\n",
    "    elif j == '#' and first and not second:\n",
    "        second = True\n",
    "        second_idx = i\n",
    "if first and second:\n",
    "    l = second_idx-first_idx+1\n",
    "    dlina = round(l/(len(interval)-2),2)\n",
    "elif first and not second:\n",
    "    l = len(interval)-first_idx-1\n",
    "    dlina = round(l/(len(interval)-2),2)\n",
    "print(dlina)"
   ]
  },
  {
   "cell_type": "code",
   "execution_count": 15,
   "metadata": {},
   "outputs": [
    {
     "name": "stdout",
     "output_type": "stream",
     "text": [
      "0011\n",
      "/\n",
      "1\n",
      ".1\n",
      "..0\n",
      "...0\n"
     ]
    }
   ],
   "source": [
    "s = input()\n",
    "mirror = input()\n",
    "\n",
    "if mirror == '|':\n",
    "    print(*reversed(s),sep='')\n",
    "elif mirror == '/':\n",
    "    for i in range(len(s)):\n",
    "        print(i*'.'+s[-i-1])\n",
    "else:\n",
    "    for i in range(len(s)):\n",
    "        print((len(s)-i-1)*'.'+s[-i-1])"
   ]
  },
  {
   "cell_type": "code",
   "execution_count": 19,
   "metadata": {},
   "outputs": [
    {
     "name": "stdout",
     "output_type": "stream",
     "text": [
      "Abcde fghij klmno pqrs tuv\n",
      "false\n"
     ]
    }
   ],
   "source": [
    "s=set(input().lower())\n",
    "a=[c for c in s if ord(c) in range(ord('a'),ord('z')+1)]\n",
    "if len(a)==26:print('true')\n",
    "else:print('false')"
   ]
  },
  {
   "cell_type": "code",
   "execution_count": 18,
   "metadata": {},
   "outputs": [
    {
     "name": "stdout",
     "output_type": "stream",
     "text": [
      "Abcde fghij klmno pqrs tuv\n",
      "false\n"
     ]
    }
   ],
   "source": [
    "s=input()\n",
    "print(str(all(c in s.lower()for c in\"abdcefghijklmnopqrstyvwxyz\")).lower())"
   ]
  },
  {
   "cell_type": "code",
   "execution_count": 44,
   "metadata": {},
   "outputs": [
    {
     "name": "stdout",
     "output_type": "stream",
     "text": [
      "2\n",
      "Mr. Anon 123456\n",
      "BAD 1\n",
      "Mr. Anonymous 123456\n",
      "PERFECT\n"
     ]
    }
   ],
   "source": [
    "num = int(input())\n",
    "for i in range(num):\n",
    "    password = input()\n",
    "    bad1=True\n",
    "    bad2=True\n",
    "    bad3=True\n",
    "    if len(password)>15:\n",
    "        bad1 = False\n",
    "    if any([c for c in password if c.islower()]) and any([c for c in password if c.isupper()]):\n",
    "        bad2 = False\n",
    "    num = [int(i) for i in password if i.isdigit()] \n",
    "    if len(num)>5:\n",
    "        bad3=False\n",
    "    if not(bad1) and not(bad2) and not(bad3):\n",
    "        print('PERFECT')\n",
    "    else:\n",
    "        print('BAD'+bad1*' 1'+bad2*' 2'+bad3*' 3')"
   ]
  },
  {
   "cell_type": "code",
   "execution_count": 56,
   "metadata": {},
   "outputs": [
    {
     "name": "stdout",
     "output_type": "stream",
     "text": [
      "2\n",
      "[1, 2, 1]\n"
     ]
    }
   ],
   "source": [
    "r = int(input())\n",
    "def pascaline(n):\n",
    "    n = n - 1\n",
    "    line = [1]\n",
    "\n",
    "    for k in range(max(n ,0)):\n",
    "\n",
    "        line.append(int(line[k]*(n-k)/(k+1)))\n",
    "\n",
    "    return line\n",
    "p=1\n",
    "a=pascaline(r+1)\n",
    "for j in a:\n",
    "    p=p*j\n",
    "print(p)"
   ]
  },
  {
   "cell_type": "code",
   "execution_count": null,
   "metadata": {},
   "outputs": [],
   "source": []
  },
  {
   "cell_type": "code",
   "execution_count": null,
   "metadata": {},
   "outputs": [],
   "source": []
  },
  {
   "cell_type": "code",
   "execution_count": null,
   "metadata": {},
   "outputs": [],
   "source": []
  },
  {
   "cell_type": "code",
   "execution_count": null,
   "metadata": {},
   "outputs": [],
   "source": []
  }
 ],
 "metadata": {
  "kernelspec": {
   "display_name": "Python 3",
   "language": "python",
   "name": "python3"
  },
  "language_info": {
   "codemirror_mode": {
    "name": "ipython",
    "version": 3
   },
   "file_extension": ".py",
   "mimetype": "text/x-python",
   "name": "python",
   "nbconvert_exporter": "python",
   "pygments_lexer": "ipython3",
   "version": "3.8.5"
  }
 },
 "nbformat": 4,
 "nbformat_minor": 4
}
